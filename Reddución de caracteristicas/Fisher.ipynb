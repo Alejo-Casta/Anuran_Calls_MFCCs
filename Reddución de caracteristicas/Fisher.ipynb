{
 "cells": [
  {
   "cell_type": "code",
   "execution_count": 1,
   "metadata": {},
   "outputs": [],
   "source": [
    "import numpy as np\n",
    "import matplotlib.pyplot as plt\n",
    "import warnings\n",
    "warnings.filterwarnings('ignore')\n",
    "\n",
    "from sklearn.preprocessing import MinMaxScaler"
   ]
  },
  {
   "cell_type": "code",
   "execution_count": 2,
   "metadata": {},
   "outputs": [],
   "source": [
    "db = np.loadtxt('../Frogs_MFCCs.data', delimiter = ',')\n",
    "#Bufonidae - Rhinella - Rhinellagranulosa\n",
    "#Dendrobatidae - Ameerega - Ameeregatrivittata\n",
    "#Hylidae - 1.Dendropsophus, 2.Hypsiboas, 3.Osteocephalus, 4.Scinax - 1.HylaMinuta, 2.HypsiboasCinerascens, 2.HypsiboasCordobae, 3.OsteocephalusOophagus, 4.ScinaxRuber\n",
    "#Leptodactylidae - 1.Adenomera, 2.Leptodactylus - 1.AdenomeraAndre, 1.AdenomeraHylaedactylus, 2.LeptodactylusFuscus\n",
    "\n",
    "#Muestras\n",
    "X = db[:, 0:22]\n",
    "\n",
    "#Familias\n",
    "Y = db[:, 22:25]\n",
    "\n",
    "#Grupos\n",
    "G = db[:, 25]"
   ]
  },
  {
   "cell_type": "code",
   "execution_count": 3,
   "metadata": {},
   "outputs": [],
   "source": [
    "def fisher_index(X, plot=True):\n",
    "    C = X.shape[1]\n",
    "    indexes = np.zeros(22)\n",
    "\n",
    "    j = 0\n",
    "    for i in range(C):\n",
    "        if_j = 0\n",
    "        for k in range(C):\n",
    "            if i == k:\n",
    "                continue\n",
    "            mean_i = np.mean(X[:,i])\n",
    "            mean_k = np.mean(X[:,k])\n",
    "            std_i = np.std(X[:,i])\n",
    "            std_k = np.std(X[:,k])\n",
    "\n",
    "            if_j += ((mean_i - mean_k)**2 )/(std_i**2 + std_k**2)\n",
    "        indexes[j] = if_j\n",
    "        j += 1\n",
    "\n",
    "    indexes = indexes / np.max(indexes)\n",
    "  \n",
    "    if plot == True:\n",
    "        x = np.array(np.linspace(0, C, C, endpoint=True))\n",
    "        y = indexes\n",
    "        plt.stem(x, y)\n",
    "        plt.xlabel('Variables')\n",
    "        plt.ylabel('Índice de fisher')\n",
    "        plt.show()    \n",
    "    return indexes"
   ]
  },
  {
   "cell_type": "markdown",
   "metadata": {},
   "source": [
    "## Capacidad de discriminante de las caracteristicas (Normalizando)"
   ]
  },
  {
   "cell_type": "code",
   "execution_count": 4,
   "metadata": {
    "scrolled": false
   },
   "outputs": [
    {
     "data": {
      "image/png": "[encoded data removed]",
      "text/plain": [
       "<Figure size 432x288 with 1 Axes>"
      ]
     },
     "metadata": {
      "needs_background": "light"
     },
     "output_type": "display_data"
    },
    {
     "data": {
      "text/plain": [
       "array([1.        , 0.05242421, 0.0276    , 0.07667342, 0.05499909,\n",
       "       0.19702915, 0.16629743, 0.07039104, 0.04452588, 0.14150769,\n",
       "       0.0466486 , 0.06524056, 0.05175513, 0.05864423, 0.06625096,\n",
       "       0.08897223, 0.06641933, 0.11881675, 0.12583666, 0.13974483,\n",
       "       0.07273818, 0.03876263])"
      ]
     },
     "execution_count": 4,
     "metadata": {},
     "output_type": "execute_result"
    }
   ],
   "source": [
    "XA = X\n",
    "scaler = MinMaxScaler()\n",
    "Xt = scaler.fit_transform(XA)\n",
    "fisher_index(Xt)"
   ]
  },
  {
   "cell_type": "markdown",
   "metadata": {},
   "source": [
    "## Capacidad de discriminante de las caracteristicas"
   ]
  },
  {
   "cell_type": "code",
   "execution_count": 5,
   "metadata": {},
   "outputs": [
    {
     "data": {
      "image/png": "[encoded data removed]",
      "text/plain": [
       "<Figure size 432x288 with 1 Axes>"
      ]
     },
     "metadata": {
      "needs_background": "light"
     },
     "output_type": "display_data"
    },
    {
     "data": {
      "text/plain": [
       "array([1.        , 0.04047631, 0.02855044, 0.10114567, 0.03923618,\n",
       "       0.06148148, 0.04423424, 0.07742675, 0.03380527, 0.06017654,\n",
       "       0.05819481, 0.04562763, 0.02712064, 0.05956758, 0.05476748,\n",
       "       0.06701657, 0.05106246, 0.11155476, 0.13480469, 0.11797166,\n",
       "       0.11168196, 0.05996469])"
      ]
     },
     "execution_count": 5,
     "metadata": {},
     "output_type": "execute_result"
    }
   ],
   "source": [
    "fisher_index(X)"
   ]
  }
 ],
 "metadata": {
  "kernelspec": {
   "display_name": "Python 3",
   "language": "python",
   "name": "python3"
  },
  "language_info": {
   "codemirror_mode": {
    "name": "ipython",
    "version": 3
   },
   "file_extension": ".py",
   "mimetype": "text/x-python",
   "name": "python",
   "nbconvert_exporter": "python",
   "pygments_lexer": "ipython3",
   "version": "3.7.6"
  }
 },
 "nbformat": 4,
 "nbformat_minor": 4
}
